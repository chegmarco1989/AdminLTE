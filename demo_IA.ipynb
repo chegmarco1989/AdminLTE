{
  "nbformat": 4,
  "nbformat_minor": 0,
  "metadata": {
    "colab": {
      "provenance": [],
      "include_colab_link": true
    },
    "kernelspec": {
      "name": "python3",
      "display_name": "Python 3"
    },
    "language_info": {
      "name": "python"
    }
  },
  "cells": [
    {
      "cell_type": "markdown",
      "metadata": {
        "id": "view-in-github",
        "colab_type": "text"
      },
      "source": [
        "<a href=\"https://colab.research.google.com/github/chegmarco1989/AdminLTE/blob/master/demo_IA.ipynb\" target=\"_parent\"><img src=\"https://colab.research.google.com/assets/colab-badge.svg\" alt=\"Open In Colab\"/></a>"
      ]
    },
    {
      "cell_type": "code",
      "execution_count": null,
      "metadata": {
        "id": "3SZvgRNZNiQ4"
      },
      "outputs": [],
      "source": [
        "import torch\n",
        "\n",
        "class Layer:\n",
        "    def __init__(self, input_size, output_size, activation=torch.relu):\n",
        "        self.weights = torch.nn.Parameter(torch.randn(output_size, input_size) * 0.1)\n",
        "        self.biases = torch.zeros(output_size, requires_grad=True)\n",
        "        self.activation = activation\n",
        "\n",
        "    def forward(self, x):\n",
        "        \"\"\"\n",
        "        x : Tensor de taille (batch_size, input_size)\n",
        "        Retourne : Tensor de taille (batch_size, output_size)\n",
        "        \"\"\"\n",
        "        z = x @ self.weights.T + self.biases  # poids : (output, input) → transposé pour (input, output)\n",
        "        return self.activation(z)\n",
        "\n",
        "    def parameters(self):\n",
        "        return [self.weights, self.biases]\n",
        "\n"
      ]
    },
    {
      "cell_type": "code",
      "source": [
        "class NeuralNetwork:\n",
        "    def __init__(self, layer_sizes, activation=torch.relu):\n",
        "        \"\"\"\n",
        "        layer_sizes : liste comme [2, 4, 1] pour 2 entrées, 1 couche cachée de 4 neurones, 1 sortie\n",
        "        activation : fonction d'activation pour toutes les couches sauf la dernière\n",
        "        \"\"\"\n",
        "        self.layers = []\n",
        "        for i in range(len(layer_sizes) - 1):\n",
        "            act = activation if i < len(layer_sizes) - 2 else lambda x: x\n",
        "            self.layers.append(Layer(layer_sizes[i], layer_sizes[i+1], activation=act))\n",
        "\n",
        "    def forward(self, x):\n",
        "        \"\"\"\n",
        "        x : Tensor de taille (input_size,)\n",
        "        \"\"\"\n",
        "        for layer in self.layers:\n",
        "            x = layer.forward(x)\n",
        "        return x\n",
        "\n",
        "    def parameters(self):\n",
        "        \"\"\"\n",
        "        Retourne tous les poids et biais du réseau sous forme de liste\n",
        "        \"\"\"\n",
        "        params = []\n",
        "        for layer in self.layers:\n",
        "            params.extend(layer.parameters())\n",
        "        return params\n"
      ],
      "metadata": {
        "id": "P4b8P65VPrR5"
      },
      "execution_count": null,
      "outputs": []
    },
    {
      "cell_type": "code",
      "source": [
        "import torchvision\n",
        "import torchvision.transforms as transforms\n",
        "from torch.utils.data import DataLoader\n",
        "\n",
        "transform = transforms.Compose([\n",
        "    transforms.ToTensor(),\n",
        "    transforms.Lambda(lambda x: x.view(-1))\n",
        "])\n",
        "\n",
        "# Chargement du dataset\n",
        "train_dataset = torchvision.datasets.MNIST(\n",
        "    root='./data',\n",
        "    train=True,\n",
        "    download=True,\n",
        "    transform=transform\n",
        ")\n",
        "\n",
        "test_dataset = torchvision.datasets.MNIST(\n",
        "    root='./data',\n",
        "    train=False,\n",
        "    download=True,\n",
        "    transform=transform\n",
        ")\n",
        "\n",
        "# Prendre un petit batch pour la démo (par ex. 32 images)\n",
        "train_loader = DataLoader(train_dataset, batch_size=32, shuffle=True)\n",
        "test_loader = DataLoader(test_dataset, batch_size=32, shuffle=True)\n",
        "\n",
        "# Récupère un batch d'images\n",
        "for x_batch, y_batch in train_loader:\n",
        "    print(\"Shape des entrées :\", x_batch.shape)  # (32, 784)\n",
        "    print(\"Shape des sorties :\", y_batch.shape)  # (32,)\n",
        "    break\n"
      ],
      "metadata": {
        "colab": {
          "base_uri": "https://localhost:8080/"
        },
        "id": "YrHMOF7aQK6g",
        "outputId": "51896a13-c0fe-4822-98b2-e77a6a96e61f"
      },
      "execution_count": null,
      "outputs": [
        {
          "output_type": "stream",
          "name": "stderr",
          "text": [
            "100%|██████████| 9.91M/9.91M [00:00<00:00, 51.1MB/s]\n",
            "100%|██████████| 28.9k/28.9k [00:00<00:00, 2.05MB/s]\n",
            "100%|██████████| 1.65M/1.65M [00:00<00:00, 14.4MB/s]\n",
            "100%|██████████| 4.54k/4.54k [00:00<00:00, 1.72MB/s]\n"
          ]
        },
        {
          "output_type": "stream",
          "name": "stdout",
          "text": [
            "Shape des entrées : torch.Size([32, 784])\n",
            "Shape des sorties : torch.Size([32])\n"
          ]
        }
      ]
    },
    {
      "cell_type": "code",
      "source": [
        "def to_one_hot(labels, num_classes=10):\n",
        "    \"\"\"\n",
        "    labels : Tensor de taille (batch_size,)\n",
        "    Retourne : Tensor de taille (batch_size, num_classes)\n",
        "    \"\"\"\n",
        "    return torch.eye(num_classes)[labels]"
      ],
      "metadata": {
        "id": "5-g7geMRR08I"
      },
      "execution_count": null,
      "outputs": []
    },
    {
      "cell_type": "code",
      "source": [
        "net = NeuralNetwork([784, 16, 16, 10])\n",
        "\n",
        "def compute_accuracy(predictions, labels):\n",
        "    predicted_classes = predictions.argmax(dim=1)\n",
        "    correct = (predicted_classes == labels).sum().item()\n",
        "    total = labels.size(0)\n",
        "    return correct / total\n",
        "\n",
        "\n",
        "total_correct = 0\n",
        "total_samples = 0\n",
        "\n",
        "for x_batch, y_batch in test_loader:\n",
        "    outputs = net.forward(x_batch)\n",
        "    preds = outputs.argmax(dim=1)\n",
        "    total_correct += (preds == y_batch).sum().item()\n",
        "    total_samples += y_batch.size(0)\n",
        "\n",
        "print(f\"Accuracy totale : {100 * total_correct / total_samples:.2f}%\")\n",
        "\n",
        "\n"
      ],
      "metadata": {
        "colab": {
          "base_uri": "https://localhost:8080/"
        },
        "id": "OiDTg15gSG1e",
        "outputId": "6d72a7cd-f705-4dfc-c269-99b5582baffb"
      },
      "execution_count": null,
      "outputs": [
        {
          "output_type": "stream",
          "name": "stdout",
          "text": [
            "Accuracy totale : 11.26%\n"
          ]
        }
      ]
    },
    {
      "cell_type": "code",
      "source": [
        "def train(model, train_loader, test_loader, lr=0.1, epochs=5):\n",
        "    for epoch in range(epochs):\n",
        "        total_loss = 0.0\n",
        "        total_acc = 0.0\n",
        "        batch_count = 0\n",
        "\n",
        "        for x_batch, y_batch in train_loader:\n",
        "            # Forward\n",
        "            outputs = model.forward(x_batch)\n",
        "            targets = to_one_hot(y_batch, num_classes=10)\n",
        "\n",
        "            # Loss\n",
        "            loss = ((outputs - targets) ** 2).mean()\n",
        "\n",
        "\n",
        "            # Backward\n",
        "            loss.backward()\n",
        "\n",
        "\n",
        "            # Update params\n",
        "            with torch.no_grad():\n",
        "                for param in model.parameters():\n",
        "                  if param.grad is not None:\n",
        "                      param -= lr * param.grad\n",
        "                      param.grad.zero_()\n",
        "\n",
        "\n",
        "            # Track metrics\n",
        "            total_loss += loss.item()\n",
        "            total_acc += compute_accuracy(outputs, y_batch)\n",
        "            batch_count += 1\n",
        "\n",
        "        avg_loss = total_loss / batch_count\n",
        "        avg_acc = total_acc / batch_count\n",
        "\n",
        "        # Évaluation sur test set\n",
        "        test_acc = 0.0\n",
        "        test_batches = 0\n",
        "        with torch.no_grad():\n",
        "            for x_test, y_test in test_loader:\n",
        "                preds = model.forward(x_test)\n",
        "                test_acc += compute_accuracy(preds, y_test)\n",
        "                test_batches += 1\n",
        "\n",
        "        test_acc /= test_batches\n",
        "\n",
        "        print(f\"Epoch {epoch+1}/{epochs} | Train Loss: {avg_loss:.4f} | Train Acc: {avg_acc*100:.2f}% | Test Acc: {test_acc*100:.2f}%\")"
      ],
      "metadata": {
        "id": "FUmsVmOMW2xX"
      },
      "execution_count": null,
      "outputs": []
    },
    {
      "cell_type": "code",
      "source": [
        "net = NeuralNetwork([784, 16, 16, 10])\n",
        "\n",
        "train(net, train_loader, test_loader, lr=0.1, epochs=10)\n"
      ],
      "metadata": {
        "colab": {
          "base_uri": "https://localhost:8080/"
        },
        "id": "P89-cySGXRPl",
        "outputId": "c69640b2-7956-4ffb-b52f-7b0abdc01d49"
      },
      "execution_count": null,
      "outputs": [
        {
          "output_type": "stream",
          "name": "stdout",
          "text": [
            "Epoch 1/10 | Train Loss: 0.0675 | Train Acc: 52.23% | Test Acc: 77.52%\n",
            "Epoch 2/10 | Train Loss: 0.0386 | Train Acc: 82.33% | Test Acc: 86.82%\n",
            "Epoch 3/10 | Train Loss: 0.0278 | Train Acc: 87.18% | Test Acc: 88.93%\n",
            "Epoch 4/10 | Train Loss: 0.0233 | Train Acc: 88.91% | Test Acc: 90.13%\n",
            "Epoch 5/10 | Train Loss: 0.0210 | Train Acc: 89.83% | Test Acc: 90.88%\n",
            "Epoch 6/10 | Train Loss: 0.0194 | Train Acc: 90.52% | Test Acc: 91.19%\n",
            "Epoch 7/10 | Train Loss: 0.0181 | Train Acc: 91.00% | Test Acc: 91.50%\n",
            "Epoch 8/10 | Train Loss: 0.0171 | Train Acc: 91.45% | Test Acc: 91.94%\n",
            "Epoch 9/10 | Train Loss: 0.0163 | Train Acc: 91.78% | Test Acc: 92.19%\n",
            "Epoch 10/10 | Train Loss: 0.0156 | Train Acc: 92.14% | Test Acc: 92.22%\n"
          ]
        }
      ]
    },
    {
      "cell_type": "code",
      "source": [
        "import torch.nn.functional as F\n",
        "\n",
        "class ConvLayer:\n",
        "    def __init__(self, in_channels, out_channels, kernel_size, activation=torch.relu):\n",
        "        self.weights = torch.nn.Parameter(torch.randn(out_channels, in_channels, kernel_size, kernel_size) * 0.1)\n",
        "        self.biases = torch.nn.Parameter(torch.zeros(out_channels))\n",
        "        self.activation = activation\n",
        "\n",
        "    def forward(self, x):\n",
        "        # x : (batch, in_channels, height, width)\n",
        "        z = F.conv2d(x, self.weights, self.biases, padding=1)\n",
        "        return self.activation(z)\n",
        "\n",
        "    def parameters(self):\n",
        "        return [self.weights, self.biases]\n",
        "\n",
        "class MaxPool2d:\n",
        "    def __init__(self, kernel_size=2, stride=2):\n",
        "        self.kernel_size = kernel_size\n",
        "        self.stride = stride\n",
        "\n",
        "    def forward(self, x):\n",
        "        return F.max_pool2d(x, self.kernel_size, self.stride)\n",
        "\n",
        "    def parameters(self):\n",
        "        return []\n",
        "\n",
        "class ReshapeLayer:\n",
        "    def __init__(self, shape):\n",
        "        \"\"\"\n",
        "        shape : tuple, la nouvelle forme **sans** la dimension batch,\n",
        "                par ex. (1, 28, 28)\n",
        "        \"\"\"\n",
        "        self.shape = shape\n",
        "\n",
        "    def forward(self, x):\n",
        "        # x : (batch, 784)\n",
        "        return x.view(x.size(0), *self.shape)\n",
        "\n",
        "    def parameters(self):\n",
        "        return []\n",
        "\n"
      ],
      "metadata": {
        "id": "fkccs3kQ1ZIa"
      },
      "execution_count": null,
      "outputs": []
    },
    {
      "cell_type": "code",
      "source": [
        "class FlexibleNeuralNetwork:\n",
        "    def __init__(self, layers):\n",
        "        \"\"\"\n",
        "        layers : liste d'objets, chacun doit avoir .forward(x) et .parameters()\n",
        "                 (ex : ConvLayer, Layer, torch.nn.Flatten)\n",
        "        \"\"\"\n",
        "        self.layers = layers\n",
        "\n",
        "    def forward(self, x):\n",
        "        for layer in self.layers:\n",
        "            x = layer.forward(x) if hasattr(layer, 'forward') else layer(x)\n",
        "        return x\n",
        "\n",
        "    def parameters(self):\n",
        "        params = []\n",
        "        for layer in self.layers:\n",
        "            if hasattr(layer, 'parameters'):\n",
        "                params.extend(layer.parameters())\n",
        "        return params\n"
      ],
      "metadata": {
        "id": "1dd6sq_k2Q-y"
      },
      "execution_count": null,
      "outputs": []
    },
    {
      "cell_type": "code",
      "source": [
        "net = FlexibleNeuralNetwork([\n",
        "    ReshapeLayer((1,28,28)),\n",
        "    ConvLayer(1, 4, 3),\n",
        "    MaxPool2d(),\n",
        "    ConvLayer(4, 8, 3),\n",
        "    MaxPool2d(),\n",
        "    torch.nn.Flatten(),\n",
        "    Layer(392, 16),\n",
        "    Layer(16,16),\n",
        "    Layer(16,10)\n",
        "])\n",
        "\n",
        "\n",
        "\n",
        "train(net,train_loader,test_loader,lr = 0.1, epochs=10)"
      ],
      "metadata": {
        "colab": {
          "base_uri": "https://localhost:8080/"
        },
        "id": "d1OH1DH02XKi",
        "outputId": "5296dc48-f111-4560-8a74-9c5ddf4a1d6c"
      },
      "execution_count": null,
      "outputs": [
        {
          "output_type": "stream",
          "name": "stdout",
          "text": [
            "Epoch 1/10 | Train Loss: 0.0792 | Train Acc: 35.20% | Test Acc: 77.07%\n",
            "Epoch 2/10 | Train Loss: 0.0283 | Train Acc: 85.16% | Test Acc: 90.32%\n",
            "Epoch 3/10 | Train Loss: 0.0182 | Train Acc: 91.05% | Test Acc: 92.57%\n",
            "Epoch 4/10 | Train Loss: 0.0145 | Train Acc: 93.10% | Test Acc: 94.42%\n",
            "Epoch 5/10 | Train Loss: 0.0123 | Train Acc: 94.14% | Test Acc: 95.02%\n",
            "Epoch 6/10 | Train Loss: 0.0109 | Train Acc: 94.94% | Test Acc: 95.44%\n",
            "Epoch 7/10 | Train Loss: 0.0099 | Train Acc: 95.40% | Test Acc: 96.05%\n",
            "Epoch 8/10 | Train Loss: 0.0091 | Train Acc: 95.86% | Test Acc: 96.09%\n",
            "Epoch 9/10 | Train Loss: 0.0085 | Train Acc: 96.15% | Test Acc: 96.27%\n",
            "Epoch 10/10 | Train Loss: 0.0080 | Train Acc: 96.34% | Test Acc: 96.23%\n"
          ]
        }
      ]
    }
  ]
}